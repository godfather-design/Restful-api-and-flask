{
  "nbformat": 4,
  "nbformat_minor": 0,
  "metadata": {
    "colab": {
      "provenance": []
    },
    "kernelspec": {
      "name": "python3",
      "display_name": "Python 3"
    },
    "language_info": {
      "name": "python"
    }
  },
  "cells": [
    {
      "cell_type": "markdown",
      "source": [
        "# **RESTful API and Flask**\n",
        "\n",
        "## **Theoritical Question.**\n",
        "\n",
        "**Question. No. 1. What is a RESTful API?**\n",
        "\n",
        "**Answer.** A RESTful API (Representational State Transfer) is a web service that follows REST principles. It uses standard HTTP methods like GET, POST, PUT, and DELETE to access and modify resources, which are typically represented in JSON or XML format. RESTful APIs are stateless, meaning each request contains all the information needed to process it, making them scalable and easy to integrate with different systems.\n",
        "\n",
        "**Question. No. 2. Explain the concept of API specification.**\n",
        "\n",
        "**Answer.** An API specification is a formal document that defines how an API works. It outlines available endpoints, request and response formats, authentication methods, and error messages. It acts as a contract between the API provider and client, helping developers understand how to use the API correctly. Tools like OpenAPI or Swagger are often used to create and visualize API specifications, promoting consistency and reducing integration issues.\n",
        "\n",
        "**Question. No. 3. What is Flask, and why is it popular for building APIs?**\n",
        "\n",
        "**Answer.** Flask is a lightweight Python web framework used to build web applications and APIs. It’s popular for API development because it’s simple, flexible, and easy to learn. It provides essential tools and libraries while allowing developers to choose their components. Flask’s minimalist design makes it ideal for microservices and RESTful APIs, and extensions like Flask-RESTful or Flask-SQLAlchemy enhance its capabilities without making it heavy.\n",
        "\n",
        "**Question. No. 4. What is routing in Flask?**\n",
        "\n",
        "**Answer.** Routing in Flask refers to the mapping of URL paths to specific functions in application. When a user visits a certain URL, Flask determines which function (called a view) should handle the request based on routing rules defined using the @app.route() decorator. Routing enables clean, organized, and predictable URL structures, making it easier to build scalable web applications and APIs.\n",
        "\n",
        "**Question. No. 5. How do you create a simple Flask application?**\n",
        "\n",
        "**Answer.** To create a simple Flask app, install Flask using pip, then write a Python script. Import Flask, create an app instance, and define a route with a function. Example:"
      ],
      "metadata": {
        "id": "6ty_W6MFDgY8"
      }
    },
    {
      "cell_type": "code",
      "source": [
        "from flask import Flask\n",
        "app = Flask(__name__)\n",
        "\n",
        "@app.route('/')\n",
        "def home():\n",
        "    return \"Hello, Flask!\"\n",
        "\n",
        "if __name__ == '__main__':\n",
        "    app.run(debug=True)"
      ],
      "metadata": {
        "id": "gEZDNf03oUR8"
      },
      "execution_count": null,
      "outputs": []
    },
    {
      "cell_type": "markdown",
      "source": [
        "**Question. No. 6. What are HTTP methods used in RESTful APIs?**\n",
        "\n",
        "**Answer.** RESTful APIs use standard HTTP methods to perform operations on resources. The main methods include:\n",
        "\n",
        "**GET:** Retrieve data from the server\n",
        "\n",
        "**POST:** Create new data\n",
        "\n",
        "**PUT:** Update existing data\n",
        "\n",
        "**DELETE:** Remove data\n",
        "\n",
        "**PATCH:** Partially update data\n",
        "\n",
        "Each method follows specific rules and is used to perform distinct operations, ensuring clarity and consistency in API design. These methods make REST APIs intuitive and aligned with web standards.\n",
        "\n",
        "**Quesion. No. 7. What is the purpose of the @app.route() decorator in Flask?**\n",
        "\n",
        "**Answer.** The @app.route() decorator in Flask is used to bind a URL path to a Python function. When a user accesses that URL, the corresponding function is executed. It allows you to define different endpoints (routes) in your application, such as /home, /about, or /api/data. You can also specify which HTTP methods (GET, POST, etc.) the route accepts. This decorator is essential for handling requests and creating a structured API.\n",
        "\n",
        "**Question. No. 8. What is the difference between GET and POST HTTP methods?**\n",
        "\n",
        "**Answer.** **GET** retrieves data from the server and is used for read-only operations. Parameters are sent via the URL, and it should not change the server state.\n",
        "\n",
        "**POST** sends data to the server, typically to create a new resource. It carries data in the request body and can modify server state.\n",
        "\n",
        "GET requests can be bookmarked and cached, while POST requests cannot. POST is more secure for sensitive data since it's not exposed in the URL.\n",
        "\n",
        "**Question. No. 9. How do you handle errors in Flask APIs?**\n",
        "\n",
        "**Answer.** Flask allows error handling using @app.errorhandler() decorators or try-except blocks. For common HTTP errors like 404 or 500, custom error messages can be returned using:"
      ],
      "metadata": {
        "id": "LACHHCr9oWAX"
      }
    },
    {
      "cell_type": "code",
      "source": [
        "@app.errorhandler(404)\n",
        "def not_found(error):\n",
        "    return {\"error\": \"Not found\"}, 404\n"
      ],
      "metadata": {
        "id": "-Sks6m6ZonbW"
      },
      "execution_count": null,
      "outputs": []
    },
    {
      "cell_type": "markdown",
      "source": [
        "We can also catch exceptions in view functions and return structured JSON responses. Flask provides a flexible way to handle and log errors to improve the reliability of your API.\n",
        "\n",
        "**Question. No. 10. How do you connect Flask to a SQL database?**\n",
        "\n",
        "**Answer.** To connect Flask to a SQL database, you use libraries like Flask-SQLAlchemy. First, install the package, then configure the database URI in your app:"
      ],
      "metadata": {
        "id": "7_y5a9e_osbH"
      }
    },
    {
      "cell_type": "code",
      "source": [
        "app.config['SQLALCHEMY_DATABASE_URI'] = 'sqlite:///data.db'\n",
        "db = SQLAlchemy(app)\n"
      ],
      "metadata": {
        "id": "w0fKQdu8o3n1"
      },
      "execution_count": null,
      "outputs": []
    },
    {
      "cell_type": "markdown",
      "source": [
        "Define models as Python classes, and SQLAlchemy maps them to database tables. You can perform CRUD operations easily using Python code. This integration simplifies database interaction within Flask applications.\n",
        "\n",
        "**Question. No. 11. What is the role of Flask-SQLAlchemy?**\n",
        "\n",
        "**Answer.**   **Flask-SQLAlchemy** is an extension that integrates SQLAlchemy (an ORM) with Flask. It simplifies database interactions by letting developers work with Python classes instead of raw SQL queries. It manages database sessions, migrations, and table creation. With Flask-SQLAlchemy, you define models using classes, and perform operations like insert, update, and delete using Python code. It improves productivity, especially when building APIs that interact with databases.\n",
        "\n",
        "**Question. No. 12. What are Flask blueprints, and how are they useful?**\n",
        "\n",
        "**Answer.** Flask blueprints help organize large applications into smaller, manageable modules. A blueprint is like a mini Flask app that contains routes, templates, and static files. You register blueprints on the main app using app.register_blueprint(). This modular structure makes your code cleaner and reusable, especially when working on larger projects or RESTful APIs with multiple endpoints.\n",
        "\n",
        "**Question. No. 13. What is the purpose of Flask's request object?**\n",
        "\n",
        "**Answer.** The request object in Flask gives access to incoming request data. It’s used to retrieve form data, JSON payloads, URL parameters, and request headers. For example, request.json retrieves JSON data, while request.args.get('id') accesses query parameters. It is crucial for building APIs that process client input and make decisions based on it. Flask automatically creates this object for every request.\n",
        "\n",
        "**Question. No. 14. How do you create a RESTful API endpoint using Flask?**\n",
        "\n",
        "**Answer.** To create a RESTful endpoint, define a route with @app.route() and specify allowed HTTP methods. For example:"
      ],
      "metadata": {
        "id": "qV7F-eKfo8-M"
      }
    },
    {
      "cell_type": "code",
      "source": [
        "@app.route('/api/user', methods=['GET'])\n",
        "def get_user():\n",
        "    return jsonify({\"name\": \"John\"})\n"
      ],
      "metadata": {
        "id": "Lm2jQzIUpFQA"
      },
      "execution_count": null,
      "outputs": []
    },
    {
      "cell_type": "markdown",
      "source": [
        "We can use request to handle input and jsonify() to return JSON. For larger APIs, use Flask-RESTful to create class-based views with Resource and api.add_resource() for better organization.\n",
        "\n",
        "**Question. No. 15. What is the purpose of Flask's jsonify() function ?**\n",
        "\n",
        "**Answer.** The jsonify() function converts Python dictionaries or lists into JSON responses. It sets the correct MIME type (application/json) and handles encoding automatically. This is especially useful in APIs, where JSON is the standard data format. Instead of manually converting data using json.dumps(), jsonify() ensures a cleaner and more reliable output, improving response consistency.\n",
        "\n",
        "**Question. No. 16. Explain Flask's url_for() function.**\n",
        "\n",
        "**Anwer.** url_for() generates URLs dynamically based on the name of a view function. This is useful for avoiding hardcoded paths in your app. For example:"
      ],
      "metadata": {
        "id": "urk9oTnupH5d"
      }
    },
    {
      "cell_type": "code",
      "source": [
        "url_for('home')"
      ],
      "metadata": {
        "id": "gXxgSl6OphTQ"
      },
      "execution_count": null,
      "outputs": []
    },
    {
      "cell_type": "markdown",
      "source": [
        "This returns the full URL for the home view. It’s helpful when linking between routes or redirecting users. It ensures your app stays maintainable, especially when route names or parameters change.\n",
        "\n",
        "**Question. No. 17. How does Flask handle static files (CSS, JavaScript, etc.)?**\n",
        "\n",
        "**Anwer.** Flask serves static files from the static/ directory by default. We can link them in templates using url_for('static', filename='style.css'). This setup simplifies the management of frontend assets like CSS, JS, and images. Flask also allows custom static folders if configured, and it efficiently handles file delivery during development.\n",
        "\n",
        "**Question. No. 18. What is an API specification, and how does it help in building a Flask API?**\n",
        "\n",
        "**Answer.** An API specification defines how your API works—what endpoints exist, what parameters they take, and what responses they return. It helps to design, test, and document of an API. In Flask, following a spec like OpenAPI ensures consistent structure and communication. It also supports auto-generating documentation using tools like Swagger, which is helpful for teams and external developers.\n",
        "\n",
        "**Question. No. 19. What are HTTP status codes, and why are they important in Flask API?**\n",
        "\n",
        "**Answer.** HTTP status codes indicate the result of an API request. Common ones include 200 (OK), 201 (Created), 400 (Bad Request), 404 (Not Found), and 500 (Server Error). In Flask, we return these codes along with our response:"
      ],
      "metadata": {
        "id": "TbLdiRdDpnCK"
      }
    },
    {
      "cell_type": "code",
      "source": [
        "return {\"msg\": \"Success\"}, 200\n"
      ],
      "metadata": {
        "id": "FfgTdkriprfD"
      },
      "execution_count": null,
      "outputs": []
    },
    {
      "cell_type": "markdown",
      "source": [
        "They inform the client whether the request was successful or failed, enabling better error handling and debugging.\n",
        "\n",
        "**Question. No. 20. How do you handle POST requests in Flask?**\n",
        "\n",
        "**Answer.** To handle POST requests, define a route that accepts POST and use the request object to access incoming data:"
      ],
      "metadata": {
        "id": "FB9Uugs3ptrT"
      }
    },
    {
      "cell_type": "code",
      "source": [
        "@app.route('/submit', methods=['POST'])\n",
        "def submit():\n",
        "    data = request.json\n",
        "    return jsonify(data), 201"
      ],
      "metadata": {
        "id": "Zj93Mpc5pxBh"
      },
      "execution_count": null,
      "outputs": []
    },
    {
      "cell_type": "markdown",
      "source": [
        "This allows you to receive and process client input such as form submissions or JSON payloads. Ensure proper validation before processing the data.\n",
        "\n",
        "**Question. No. 21. How would you secure a Flask API?**\n",
        "\n",
        "**Answer.** We can secure a Flask API by implementing:\n",
        "\n",
        "**Authentication** (e.g., JWT or token-based)\n",
        "\n",
        "**Authorization** (user roles and permissions)\n",
        "\n",
        "**Input validation** (to prevent injection)\n",
        "\n",
        "**Rate limiting** (using Flask-Limiter)\n",
        "\n",
        "**HTTPS** for secure communication\n",
        "\n",
        "**CORS** control with Flask-CORS\n",
        "\n",
        "Always sanitize input, log activities, and avoid exposing sensitive info in error messages. Security is vital to protect user data and prevent abuse.\n",
        "\n",
        "**Question. No. 22. What is the significance of the Flask-RESTful extension?**\n",
        "\n",
        "**Answer.** Flask-RESTful simplifies building REST APIs with Flask. It allows class-based views using Resource and supports input parsing, HTTP method handling, and error management. We define endpoints using classes and add them with api.add_resource(). This approach organizes code better and scales well for large APIs. It reduces boilerplate code, making development faster and cleaner.\n",
        "\n",
        "**Question. No. 23. What is the role of Flask's session object?**\n",
        "Flask's session object stores data specific to a user session using a secure cookie. It’s used for remembering user data between requests—like login state, preferences, or cart items. It behaves like a dictionary and is signed with a secret key for security. While not ideal for large data, it’s helpful for lightweight, session-based web apps and APIs.\n",
        "\n",
        "#Practical Questions\n",
        "\n",
        "**Question. No. 1. How do you create a basic flask application?**"
      ],
      "metadata": {
        "id": "9aWFcp6Mp_cC"
      }
    },
    {
      "cell_type": "code",
      "source": [
        "from flask import Flask\n",
        "\n",
        "app = Flask(__name__)\n",
        "\n",
        "@app.route('/')\n",
        "def home():\n",
        "    return \"Hello, Flask!\"\n",
        "\n",
        "if __name__ == '__main__':\n",
        "    app.run(debug=True)\n",
        "\n",
        "#This is a basic Flask app that runs on localhost:5000 and returns a simple message on the homepage.\n"
      ],
      "metadata": {
        "id": "M7nXAjPQQhnZ"
      },
      "execution_count": null,
      "outputs": []
    },
    {
      "cell_type": "markdown",
      "source": [
        "**Question. No. 2.How do you serve stattic files like images or CSS in Flask?**\n"
      ],
      "metadata": {
        "id": "tTS2SC60QyEM"
      }
    },
    {
      "cell_type": "code",
      "source": [
        "#Place files in a folder named static/. Then access them in HTML using:\n",
        "<link rel=\"stylesheet\" href=\"{{ url_for('static', filename='style.css') }}\">\n",
        "<img src=\"{{ url_for('static', filename='image.png') }}\">\n"
      ],
      "metadata": {
        "id": "WrwLLb2EQhuF"
      },
      "execution_count": null,
      "outputs": []
    },
    {
      "cell_type": "markdown",
      "source": [
        "**Question. No. 3.How do you define different routes with different HTTP methods in Flask?**\n",
        "\n"
      ],
      "metadata": {
        "id": "rMyfXTJfRw6K"
      }
    },
    {
      "cell_type": "code",
      "source": [
        "@app.route('/submit', methods=['GET', 'POST'])\n",
        "def submit():\n",
        "    if request.method == 'POST':\n",
        "        return \"Form submitted!\"\n",
        "    return \"Submit form\"\n"
      ],
      "metadata": {
        "id": "RmTfUsQPQh0s"
      },
      "execution_count": null,
      "outputs": []
    },
    {
      "cell_type": "markdown",
      "source": [
        "\n",
        "**Question. No. 4. How do you render HTML templates in Flask?**"
      ],
      "metadata": {
        "id": "PtqeiHQUWvpN"
      }
    },
    {
      "cell_type": "code",
      "source": [
        "from flask import render_template\n",
        "\n",
        "@app.route('/')\n",
        "def home():\n",
        "    return render_template('index.html')\n"
      ],
      "metadata": {
        "id": "7758gjZyQh37"
      },
      "execution_count": null,
      "outputs": []
    },
    {
      "cell_type": "markdown",
      "source": [
        "**Question. No. 5. How can you generate URLs for routes in Flask using url_for?**\n"
      ],
      "metadata": {
        "id": "g7348Ia_W6uL"
      }
    },
    {
      "cell_type": "code",
      "source": [
        "@app.route('/profile/<username>')\n",
        "def profile(username):\n",
        "    return f\"Hello, {username}\"\n",
        "\n",
        "# Generate URL:\n",
        "url_for('profile', username='john')\n"
      ],
      "metadata": {
        "id": "jPk0FkB_Qh7c"
      },
      "execution_count": null,
      "outputs": []
    },
    {
      "cell_type": "markdown",
      "source": [
        "**Question. No.6. How do you handle forms in Flask?**"
      ],
      "metadata": {
        "id": "FsNAoI7cXJZs"
      }
    },
    {
      "cell_type": "code",
      "source": [
        "#for HTML\n",
        "#<form method=\"POST\">\n",
        "  #<input type=\"text\" name=\"username\">\n",
        "  #<input type=\"submit\">\n",
        "#</form>\"\"\"\n",
        "\n",
        "#FOR Python\n",
        "from flask import request\n",
        "\n",
        "@app.route('/form', methods=['POST'])\n",
        "def form():\n",
        "    username = request.form['username']\n",
        "    return f\"Hello {username}\"\n"
      ],
      "metadata": {
        "id": "pcUaS_iSQh-4"
      },
      "execution_count": null,
      "outputs": []
    },
    {
      "cell_type": "markdown",
      "source": [
        "**Question. No. 7. How can you validate form data in Flask ?**\n"
      ],
      "metadata": {
        "id": "0OgU--E5XkrT"
      }
    },
    {
      "cell_type": "code",
      "source": [
        "#Use WTForms:\n",
        "pip install flask-wtf\n",
        "\n",
        "#EXAMPLE\n",
        "\n",
        "from flask_wtf import FlaskForm\n",
        "from wtforms import StringField, SubmitField\n",
        "from wtforms.validators import DataRequired\n",
        "\n",
        "class MyForm(FlaskForm):\n",
        "    name = StringField('Name', validators=[DataRequired()])\n",
        "    submit = SubmitField('Submit')\n"
      ],
      "metadata": {
        "id": "88jjuDwZQiDc"
      },
      "execution_count": null,
      "outputs": []
    },
    {
      "cell_type": "markdown",
      "source": [
        "**Question. No. 8. How do you manage sessions in Flask?**\n"
      ],
      "metadata": {
        "id": "qbTAerWCYAe6"
      }
    },
    {
      "cell_type": "code",
      "source": [
        "from flask import session\n",
        "\n",
        "app.secret_key = 'secret'\n",
        "\n",
        "@app.route('/login')\n",
        "def login():\n",
        "    session['user'] = 'admin'\n",
        "    return 'Logged in'\n",
        "\n",
        "@app.route('/logout')\n",
        "def logout():\n",
        "    session.pop('user', None)\n",
        "    return 'Logged out'\n"
      ],
      "metadata": {
        "id": "3_YKVBSZQiLZ"
      },
      "execution_count": null,
      "outputs": []
    },
    {
      "cell_type": "markdown",
      "source": [
        "**Question. No. 9. How do you redirect to a differenct route in Flask?**\n"
      ],
      "metadata": {
        "id": "zNYx4GG7YOSk"
      }
    },
    {
      "cell_type": "code",
      "source": [
        "from flask import redirect, url_for\n",
        "\n",
        "@app.route('/go-home')\n",
        "def go_home():\n",
        "    return redirect(url_for('home'))\n"
      ],
      "metadata": {
        "id": "-QGPwFeTQiSA"
      },
      "execution_count": null,
      "outputs": []
    },
    {
      "cell_type": "markdown",
      "source": [
        "**Question. No. 10. How do you handle errors in Flask(e.g., 404) ?**\n"
      ],
      "metadata": {
        "id": "koyfGRtPYXDw"
      }
    },
    {
      "cell_type": "code",
      "source": [
        "@app.errorhandler(404)\n",
        "def not_found(error):\n",
        "    return \"Page not found\", 404\n"
      ],
      "metadata": {
        "id": "dj5b4f9YQiV-"
      },
      "execution_count": null,
      "outputs": []
    },
    {
      "cell_type": "markdown",
      "source": [
        "**Question. No. 11. How do you structure a Flask app using Blueprints?**"
      ],
      "metadata": {
        "id": "Shc1A3AJYmcz"
      }
    },
    {
      "cell_type": "code",
      "source": [
        "In my_blueprint.py:\n",
        "\n",
        "from flask import Blueprint\n",
        "\n",
        "bp = Blueprint('bp', __name__)\n",
        "\n",
        "@bp.route('/hello')\n",
        "def hello():\n",
        "    return \"Hello from blueprint\"\n",
        "\n",
        "In main app:\n",
        "\n",
        "from my_blueprint import bp\n",
        "app.register_blueprint(bp, url_prefix='/bp')\n"
      ],
      "metadata": {
        "id": "L3I6430RQiZ6"
      },
      "execution_count": null,
      "outputs": []
    },
    {
      "cell_type": "markdown",
      "source": [
        "**Question. No. 12. How do you define a custom Jinja filter in Flask?**\n"
      ],
      "metadata": {
        "id": "k6X4K6hYZe6H"
      }
    },
    {
      "cell_type": "code",
      "source": [
        "@app.template_filter('reverse')\n",
        "def reverse_filter(s):\n",
        "    return s[::-1]\n",
        "\n",
        "#IN HTML\n",
        "\n",
        "#{{ 'hello' | reverse }}\n"
      ],
      "metadata": {
        "id": "R1a5zF6aQid_"
      },
      "execution_count": null,
      "outputs": []
    },
    {
      "cell_type": "markdown",
      "source": [
        "**Question. No. 13. How can you redirect with query parameters in Flask?**\n"
      ],
      "metadata": {
        "id": "Ep9wCNdzZ4p9"
      }
    },
    {
      "cell_type": "code",
      "source": [
        "return redirect(url_for('search', q='flask'))\n",
        "\n",
        "\n",
        "#And define the route:\n",
        "\n",
        "@app.route('/search')\n",
        "def search():\n",
        "    query = request.args.get('q')\n",
        "    return f\"Search results for {query}\"\n"
      ],
      "metadata": {
        "id": "m26Eg33WQiiB"
      },
      "execution_count": null,
      "outputs": []
    },
    {
      "cell_type": "markdown",
      "source": [
        "**Question. No. 14. How do you return JSON responses in Flask?**"
      ],
      "metadata": {
        "id": "tqqK8dcraM5P"
      }
    },
    {
      "cell_type": "code",
      "source": [
        "from flask import jsonify\n",
        "\n",
        "@app.route('/api')\n",
        "def api():\n",
        "    return jsonify({'name': 'Flask', 'version': 2})\n"
      ],
      "metadata": {
        "id": "QFMfVQIkQiqO"
      },
      "execution_count": null,
      "outputs": []
    },
    {
      "cell_type": "markdown",
      "source": [
        "\n",
        "**Question. No. 15. How do you capture URL parameters in Flask?**"
      ],
      "metadata": {
        "id": "5y0gZO_-ayjy"
      }
    },
    {
      "cell_type": "code",
      "source": [
        "@app.route('/user/<username>')\n",
        "def show_user(username):\n",
        "    return f\"User: {username}\"\n"
      ],
      "metadata": {
        "id": "bqcRdJ3_QiwR"
      },
      "execution_count": null,
      "outputs": []
    }
  ]
}